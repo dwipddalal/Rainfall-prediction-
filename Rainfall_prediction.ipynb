{
  "nbformat": 4,
  "nbformat_minor": 0,
  "metadata": {
    "kernelspec": {
      "display_name": "Python 3",
      "language": "python",
      "name": "python3"
    },
    "language_info": {
      "codemirror_mode": {
        "name": "ipython",
        "version": 3
      },
      "file_extension": ".py",
      "mimetype": "text/x-python",
      "name": "python",
      "nbconvert_exporter": "python",
      "pygments_lexer": "ipython3",
      "version": "3.8.5"
    },
    "colab": {
      "name": "Rainfall prediction.ipynb",
      "provenance": [],
      "collapsed_sections": []
    }
  },
  "cells": [
    {
      "cell_type": "markdown",
      "metadata": {
        "id": "vziCwtYSvpav"
      },
      "source": [
        "#Rain Prediction in Australia"
      ]
    },
    {
      "cell_type": "markdown",
      "metadata": {
        "id": "rsH1_6fPvpaw"
      },
      "source": [
        "# Importing certain libraries "
      ]
    },
    {
      "cell_type": "code",
      "metadata": {
        "id": "DHyUvB8tvpa0"
      },
      "source": [
        "import numpy as np\n",
        "import pandas as pd \n",
        "import matplotlib.pyplot as plt\n",
        "import seaborn as sns\n",
        "\n",
        "from sklearn.linear_model import LogisticRegression\n",
        "from sklearn.svm import SVC # SVC(Support Vector Classifier) fits to the data, and returns a \"best fit\" hyperplane that divides, or categorizes, the data\n",
        "\n",
        "from sklearn.metrics import confusion_matrix, accuracy_score, roc_auc_score, roc_curve, plot_confusion_matrix, classification_report\n",
        "from sklearn import preprocessing\n",
        "\n",
        "from sklearn.model_selection import train_test_split\n",
        "from sklearn.model_selection import cross_val_score\n",
        "import warnings\n",
        "warnings.filterwarnings(\"ignore\")"
      ],
      "execution_count": null,
      "outputs": []
    },
    {
      "cell_type": "markdown",
      "metadata": {
        "id": "r-tHNg8qvpa0"
      },
      "source": [
        "<h1 style=\"background-color:#ABFF9B;font-size:20px;color:#00033E;font-weight : bold\">Read the data </h1>"
      ]
    },
    {
      "cell_type": "code",
      "metadata": {
        "id": "m-owrU7vvpa0"
      },
      "source": [
        "path = 'https://raw.githubusercontent.com/dwipddalal/Rainfall-prediction-using-ensemble-learning/main/Rainfall%20data.csv'\n",
        "df = pd.read_csv(path)"
      ],
      "execution_count": null,
      "outputs": []
    },
    {
      "cell_type": "code",
      "metadata": {
        "id": "mxownAh7vpa1",
        "colab": {
          "base_uri": "https://localhost:8080/",
          "height": 299
        },
        "outputId": "100c1e63-962b-43ca-ae88-94c465de470c"
      },
      "source": [
        "df.head()"
      ],
      "execution_count": null,
      "outputs": [
        {
          "output_type": "execute_result",
          "data": {
            "text/plain": [
              "   Date  Location  MinTemp  MaxTemp  Rainfall  Evaporation  Sunshine  \\\n",
              "0  2856        11     18.3     35.4       0.0         10.7       8.2   \n",
              "1   575         0     12.0     21.1       0.0          2.4       4.9   \n",
              "2  2037         6     11.9     17.0       1.6          5.6       0.8   \n",
              "3  2010        19      1.3     10.2       4.2          2.6       4.4   \n",
              "4  2895        18     23.7     31.5       0.0         11.0      12.1   \n",
              "\n",
              "   WindGustDir  WindGustSpeed  WindDir9am  ...  Humidity9am  Humidity3pm  \\\n",
              "0           15             31           0  ...           17           14   \n",
              "1           11             22          15  ...           70           60   \n",
              "2            5             48           4  ...           71           88   \n",
              "3           15             33          15  ...           87           64   \n",
              "4            4             35           2  ...           53           50   \n",
              "\n",
              "   Pressure9am  Pressure3pm  Cloud9am  Cloud3pm  Temp9am  Temp3pm  RainToday  \\\n",
              "0       1012.8       1010.7         3         7     26.3     34.0          0   \n",
              "1       1022.3       1020.2         2         7     16.2     19.4          0   \n",
              "2       1008.4       1004.7         7         7     14.6     13.3          1   \n",
              "3       1018.4       1016.8         7         7      3.8      8.5          1   \n",
              "4       1014.2       1010.2         3         1     29.1     30.4          0   \n",
              "\n",
              "   RainTomorrow  \n",
              "0             1  \n",
              "1             0  \n",
              "2             1  \n",
              "3             0  \n",
              "4             0  \n",
              "\n",
              "[5 rows x 23 columns]"
            ],
            "text/html": [
              "\n",
              "  <div id=\"df-89b16b9c-489c-408e-b7b1-ca4b86bcb0f0\">\n",
              "    <div class=\"colab-df-container\">\n",
              "      <div>\n",
              "<style scoped>\n",
              "    .dataframe tbody tr th:only-of-type {\n",
              "        vertical-align: middle;\n",
              "    }\n",
              "\n",
              "    .dataframe tbody tr th {\n",
              "        vertical-align: top;\n",
              "    }\n",
              "\n",
              "    .dataframe thead th {\n",
              "        text-align: right;\n",
              "    }\n",
              "</style>\n",
              "<table border=\"1\" class=\"dataframe\">\n",
              "  <thead>\n",
              "    <tr style=\"text-align: right;\">\n",
              "      <th></th>\n",
              "      <th>Date</th>\n",
              "      <th>Location</th>\n",
              "      <th>MinTemp</th>\n",
              "      <th>MaxTemp</th>\n",
              "      <th>Rainfall</th>\n",
              "      <th>Evaporation</th>\n",
              "      <th>Sunshine</th>\n",
              "      <th>WindGustDir</th>\n",
              "      <th>WindGustSpeed</th>\n",
              "      <th>WindDir9am</th>\n",
              "      <th>...</th>\n",
              "      <th>Humidity9am</th>\n",
              "      <th>Humidity3pm</th>\n",
              "      <th>Pressure9am</th>\n",
              "      <th>Pressure3pm</th>\n",
              "      <th>Cloud9am</th>\n",
              "      <th>Cloud3pm</th>\n",
              "      <th>Temp9am</th>\n",
              "      <th>Temp3pm</th>\n",
              "      <th>RainToday</th>\n",
              "      <th>RainTomorrow</th>\n",
              "    </tr>\n",
              "  </thead>\n",
              "  <tbody>\n",
              "    <tr>\n",
              "      <th>0</th>\n",
              "      <td>2856</td>\n",
              "      <td>11</td>\n",
              "      <td>18.3</td>\n",
              "      <td>35.4</td>\n",
              "      <td>0.0</td>\n",
              "      <td>10.7</td>\n",
              "      <td>8.2</td>\n",
              "      <td>15</td>\n",
              "      <td>31</td>\n",
              "      <td>0</td>\n",
              "      <td>...</td>\n",
              "      <td>17</td>\n",
              "      <td>14</td>\n",
              "      <td>1012.8</td>\n",
              "      <td>1010.7</td>\n",
              "      <td>3</td>\n",
              "      <td>7</td>\n",
              "      <td>26.3</td>\n",
              "      <td>34.0</td>\n",
              "      <td>0</td>\n",
              "      <td>1</td>\n",
              "    </tr>\n",
              "    <tr>\n",
              "      <th>1</th>\n",
              "      <td>575</td>\n",
              "      <td>0</td>\n",
              "      <td>12.0</td>\n",
              "      <td>21.1</td>\n",
              "      <td>0.0</td>\n",
              "      <td>2.4</td>\n",
              "      <td>4.9</td>\n",
              "      <td>11</td>\n",
              "      <td>22</td>\n",
              "      <td>15</td>\n",
              "      <td>...</td>\n",
              "      <td>70</td>\n",
              "      <td>60</td>\n",
              "      <td>1022.3</td>\n",
              "      <td>1020.2</td>\n",
              "      <td>2</td>\n",
              "      <td>7</td>\n",
              "      <td>16.2</td>\n",
              "      <td>19.4</td>\n",
              "      <td>0</td>\n",
              "      <td>0</td>\n",
              "    </tr>\n",
              "    <tr>\n",
              "      <th>2</th>\n",
              "      <td>2037</td>\n",
              "      <td>6</td>\n",
              "      <td>11.9</td>\n",
              "      <td>17.0</td>\n",
              "      <td>1.6</td>\n",
              "      <td>5.6</td>\n",
              "      <td>0.8</td>\n",
              "      <td>5</td>\n",
              "      <td>48</td>\n",
              "      <td>4</td>\n",
              "      <td>...</td>\n",
              "      <td>71</td>\n",
              "      <td>88</td>\n",
              "      <td>1008.4</td>\n",
              "      <td>1004.7</td>\n",
              "      <td>7</td>\n",
              "      <td>7</td>\n",
              "      <td>14.6</td>\n",
              "      <td>13.3</td>\n",
              "      <td>1</td>\n",
              "      <td>1</td>\n",
              "    </tr>\n",
              "    <tr>\n",
              "      <th>3</th>\n",
              "      <td>2010</td>\n",
              "      <td>19</td>\n",
              "      <td>1.3</td>\n",
              "      <td>10.2</td>\n",
              "      <td>4.2</td>\n",
              "      <td>2.6</td>\n",
              "      <td>4.4</td>\n",
              "      <td>15</td>\n",
              "      <td>33</td>\n",
              "      <td>15</td>\n",
              "      <td>...</td>\n",
              "      <td>87</td>\n",
              "      <td>64</td>\n",
              "      <td>1018.4</td>\n",
              "      <td>1016.8</td>\n",
              "      <td>7</td>\n",
              "      <td>7</td>\n",
              "      <td>3.8</td>\n",
              "      <td>8.5</td>\n",
              "      <td>1</td>\n",
              "      <td>0</td>\n",
              "    </tr>\n",
              "    <tr>\n",
              "      <th>4</th>\n",
              "      <td>2895</td>\n",
              "      <td>18</td>\n",
              "      <td>23.7</td>\n",
              "      <td>31.5</td>\n",
              "      <td>0.0</td>\n",
              "      <td>11.0</td>\n",
              "      <td>12.1</td>\n",
              "      <td>4</td>\n",
              "      <td>35</td>\n",
              "      <td>2</td>\n",
              "      <td>...</td>\n",
              "      <td>53</td>\n",
              "      <td>50</td>\n",
              "      <td>1014.2</td>\n",
              "      <td>1010.2</td>\n",
              "      <td>3</td>\n",
              "      <td>1</td>\n",
              "      <td>29.1</td>\n",
              "      <td>30.4</td>\n",
              "      <td>0</td>\n",
              "      <td>0</td>\n",
              "    </tr>\n",
              "  </tbody>\n",
              "</table>\n",
              "<p>5 rows × 23 columns</p>\n",
              "</div>\n",
              "      <button class=\"colab-df-convert\" onclick=\"convertToInteractive('df-89b16b9c-489c-408e-b7b1-ca4b86bcb0f0')\"\n",
              "              title=\"Convert this dataframe to an interactive table.\"\n",
              "              style=\"display:none;\">\n",
              "        \n",
              "  <svg xmlns=\"http://www.w3.org/2000/svg\" height=\"24px\"viewBox=\"0 0 24 24\"\n",
              "       width=\"24px\">\n",
              "    <path d=\"M0 0h24v24H0V0z\" fill=\"none\"/>\n",
              "    <path d=\"M18.56 5.44l.94 2.06.94-2.06 2.06-.94-2.06-.94-.94-2.06-.94 2.06-2.06.94zm-11 1L8.5 8.5l.94-2.06 2.06-.94-2.06-.94L8.5 2.5l-.94 2.06-2.06.94zm10 10l.94 2.06.94-2.06 2.06-.94-2.06-.94-.94-2.06-.94 2.06-2.06.94z\"/><path d=\"M17.41 7.96l-1.37-1.37c-.4-.4-.92-.59-1.43-.59-.52 0-1.04.2-1.43.59L10.3 9.45l-7.72 7.72c-.78.78-.78 2.05 0 2.83L4 21.41c.39.39.9.59 1.41.59.51 0 1.02-.2 1.41-.59l7.78-7.78 2.81-2.81c.8-.78.8-2.07 0-2.86zM5.41 20L4 18.59l7.72-7.72 1.47 1.35L5.41 20z\"/>\n",
              "  </svg>\n",
              "      </button>\n",
              "      \n",
              "  <style>\n",
              "    .colab-df-container {\n",
              "      display:flex;\n",
              "      flex-wrap:wrap;\n",
              "      gap: 12px;\n",
              "    }\n",
              "\n",
              "    .colab-df-convert {\n",
              "      background-color: #E8F0FE;\n",
              "      border: none;\n",
              "      border-radius: 50%;\n",
              "      cursor: pointer;\n",
              "      display: none;\n",
              "      fill: #1967D2;\n",
              "      height: 32px;\n",
              "      padding: 0 0 0 0;\n",
              "      width: 32px;\n",
              "    }\n",
              "\n",
              "    .colab-df-convert:hover {\n",
              "      background-color: #E2EBFA;\n",
              "      box-shadow: 0px 1px 2px rgba(60, 64, 67, 0.3), 0px 1px 3px 1px rgba(60, 64, 67, 0.15);\n",
              "      fill: #174EA6;\n",
              "    }\n",
              "\n",
              "    [theme=dark] .colab-df-convert {\n",
              "      background-color: #3B4455;\n",
              "      fill: #D2E3FC;\n",
              "    }\n",
              "\n",
              "    [theme=dark] .colab-df-convert:hover {\n",
              "      background-color: #434B5C;\n",
              "      box-shadow: 0px 1px 3px 1px rgba(0, 0, 0, 0.15);\n",
              "      filter: drop-shadow(0px 1px 2px rgba(0, 0, 0, 0.3));\n",
              "      fill: #FFFFFF;\n",
              "    }\n",
              "  </style>\n",
              "\n",
              "      <script>\n",
              "        const buttonEl =\n",
              "          document.querySelector('#df-89b16b9c-489c-408e-b7b1-ca4b86bcb0f0 button.colab-df-convert');\n",
              "        buttonEl.style.display =\n",
              "          google.colab.kernel.accessAllowed ? 'block' : 'none';\n",
              "\n",
              "        async function convertToInteractive(key) {\n",
              "          const element = document.querySelector('#df-89b16b9c-489c-408e-b7b1-ca4b86bcb0f0');\n",
              "          const dataTable =\n",
              "            await google.colab.kernel.invokeFunction('convertToInteractive',\n",
              "                                                     [key], {});\n",
              "          if (!dataTable) return;\n",
              "\n",
              "          const docLinkHtml = 'Like what you see? Visit the ' +\n",
              "            '<a target=\"_blank\" href=https://colab.research.google.com/notebooks/data_table.ipynb>data table notebook</a>'\n",
              "            + ' to learn more about interactive tables.';\n",
              "          element.innerHTML = '';\n",
              "          dataTable['output_type'] = 'display_data';\n",
              "          await google.colab.output.renderOutput(dataTable, element);\n",
              "          const docLink = document.createElement('div');\n",
              "          docLink.innerHTML = docLinkHtml;\n",
              "          element.appendChild(docLink);\n",
              "        }\n",
              "      </script>\n",
              "    </div>\n",
              "  </div>\n",
              "  "
            ]
          },
          "metadata": {},
          "execution_count": 3
        }
      ]
    },
    {
      "cell_type": "code",
      "source": [
        "print(df.shape)"
      ],
      "metadata": {
        "colab": {
          "base_uri": "https://localhost:8080/"
        },
        "id": "0UCRkbg18Nqq",
        "outputId": "3b1641a4-81c1-4e8d-f5b3-61e5d3d329cc"
      },
      "execution_count": null,
      "outputs": [
        {
          "output_type": "stream",
          "name": "stdout",
          "text": [
            "(24196, 23)\n"
          ]
        }
      ]
    },
    {
      "cell_type": "code",
      "metadata": {
        "id": "sMBhA4H3vpa1",
        "colab": {
          "base_uri": "https://localhost:8080/",
          "height": 393
        },
        "outputId": "4c52456e-3830-4329-bb3a-646cb7184bac"
      },
      "source": [
        "df.describe()"
      ],
      "execution_count": null,
      "outputs": [
        {
          "output_type": "execute_result",
          "data": {
            "text/plain": [
              "               Date      Location       MinTemp       MaxTemp      Rainfall  \\\n",
              "count  24196.000000  24196.000000  24196.000000  24196.000000  24196.000000   \n",
              "mean    1702.554430     11.126880     13.281232     23.124078      3.008857   \n",
              "std      837.645705      6.397324      6.084032      6.681013      8.399269   \n",
              "min        0.000000      0.000000     -4.700000      4.100000      0.000000   \n",
              "25%      984.000000      6.000000      8.600000     17.900000      0.000000   \n",
              "50%     1651.000000     11.000000     13.100000     22.700000      0.000000   \n",
              "75%     2381.000000     17.000000     18.000000     28.100000      1.800000   \n",
              "max     3415.000000     22.000000     31.400000     46.800000    206.200000   \n",
              "\n",
              "        Evaporation      Sunshine   WindGustDir  WindGustSpeed    WindDir9am  \\\n",
              "count  24196.000000  24196.000000  24196.000000   24196.000000  24196.000000   \n",
              "mean       5.114329      6.700591      7.752273      42.371880      7.315424   \n",
              "std        3.549384      3.958287      4.788052      14.221336      4.634019   \n",
              "min        0.000000      0.000000      0.000000       9.000000      0.000000   \n",
              "25%        2.400000      3.400000      3.000000      31.000000      3.000000   \n",
              "50%        4.400000      7.200000      8.000000      41.000000      7.000000   \n",
              "75%        7.000000     10.000000     12.000000      50.000000     11.000000   \n",
              "max       59.800000     14.500000     15.000000     122.000000     15.000000   \n",
              "\n",
              "       ...   Humidity9am   Humidity3pm   Pressure9am   Pressure3pm  \\\n",
              "count  ...  24196.000000  24196.000000  24196.000000  24196.000000   \n",
              "mean   ...     69.505621     55.335345   1016.774682   1014.508518   \n",
              "std    ...     17.671186     20.907040      6.987625      6.877345   \n",
              "min    ...      3.000000      0.000000    980.500000    979.000000   \n",
              "25%    ...     58.000000     41.000000   1012.200000   1009.900000   \n",
              "50%    ...     70.000000     56.000000   1016.800000   1014.400000   \n",
              "75%    ...     83.000000     70.000000   1021.400000   1019.000000   \n",
              "max    ...    100.000000    100.000000   1040.200000   1037.000000   \n",
              "\n",
              "           Cloud9am      Cloud3pm       Temp9am       Temp3pm     RainToday  \\\n",
              "count  24196.000000  24196.000000  24196.000000  24196.000000  24196.000000   \n",
              "mean       4.767152      4.926682     17.609216     21.493420      0.293396   \n",
              "std        2.741416      2.586083      6.189396      6.535474      0.455328   \n",
              "min        0.000000      0.000000     -0.700000      3.700000      0.000000   \n",
              "25%        2.000000      3.000000     12.700000     16.500000      0.000000   \n",
              "50%        6.000000      6.000000     17.300000     21.100000      0.000000   \n",
              "75%        7.000000      7.000000     22.300000     26.200000      1.000000   \n",
              "max        8.000000      9.000000     39.400000     46.100000      1.000000   \n",
              "\n",
              "       RainTomorrow  \n",
              "count  24196.000000  \n",
              "mean       0.453918  \n",
              "std        0.497882  \n",
              "min        0.000000  \n",
              "25%        0.000000  \n",
              "50%        0.000000  \n",
              "75%        1.000000  \n",
              "max        1.000000  \n",
              "\n",
              "[8 rows x 23 columns]"
            ],
            "text/html": [
              "\n",
              "  <div id=\"df-3bd6509d-8ee5-463b-a959-a1e26cf35114\">\n",
              "    <div class=\"colab-df-container\">\n",
              "      <div>\n",
              "<style scoped>\n",
              "    .dataframe tbody tr th:only-of-type {\n",
              "        vertical-align: middle;\n",
              "    }\n",
              "\n",
              "    .dataframe tbody tr th {\n",
              "        vertical-align: top;\n",
              "    }\n",
              "\n",
              "    .dataframe thead th {\n",
              "        text-align: right;\n",
              "    }\n",
              "</style>\n",
              "<table border=\"1\" class=\"dataframe\">\n",
              "  <thead>\n",
              "    <tr style=\"text-align: right;\">\n",
              "      <th></th>\n",
              "      <th>Date</th>\n",
              "      <th>Location</th>\n",
              "      <th>MinTemp</th>\n",
              "      <th>MaxTemp</th>\n",
              "      <th>Rainfall</th>\n",
              "      <th>Evaporation</th>\n",
              "      <th>Sunshine</th>\n",
              "      <th>WindGustDir</th>\n",
              "      <th>WindGustSpeed</th>\n",
              "      <th>WindDir9am</th>\n",
              "      <th>...</th>\n",
              "      <th>Humidity9am</th>\n",
              "      <th>Humidity3pm</th>\n",
              "      <th>Pressure9am</th>\n",
              "      <th>Pressure3pm</th>\n",
              "      <th>Cloud9am</th>\n",
              "      <th>Cloud3pm</th>\n",
              "      <th>Temp9am</th>\n",
              "      <th>Temp3pm</th>\n",
              "      <th>RainToday</th>\n",
              "      <th>RainTomorrow</th>\n",
              "    </tr>\n",
              "  </thead>\n",
              "  <tbody>\n",
              "    <tr>\n",
              "      <th>count</th>\n",
              "      <td>24196.000000</td>\n",
              "      <td>24196.000000</td>\n",
              "      <td>24196.000000</td>\n",
              "      <td>24196.000000</td>\n",
              "      <td>24196.000000</td>\n",
              "      <td>24196.000000</td>\n",
              "      <td>24196.000000</td>\n",
              "      <td>24196.000000</td>\n",
              "      <td>24196.000000</td>\n",
              "      <td>24196.000000</td>\n",
              "      <td>...</td>\n",
              "      <td>24196.000000</td>\n",
              "      <td>24196.000000</td>\n",
              "      <td>24196.000000</td>\n",
              "      <td>24196.000000</td>\n",
              "      <td>24196.000000</td>\n",
              "      <td>24196.000000</td>\n",
              "      <td>24196.000000</td>\n",
              "      <td>24196.000000</td>\n",
              "      <td>24196.000000</td>\n",
              "      <td>24196.000000</td>\n",
              "    </tr>\n",
              "    <tr>\n",
              "      <th>mean</th>\n",
              "      <td>1702.554430</td>\n",
              "      <td>11.126880</td>\n",
              "      <td>13.281232</td>\n",
              "      <td>23.124078</td>\n",
              "      <td>3.008857</td>\n",
              "      <td>5.114329</td>\n",
              "      <td>6.700591</td>\n",
              "      <td>7.752273</td>\n",
              "      <td>42.371880</td>\n",
              "      <td>7.315424</td>\n",
              "      <td>...</td>\n",
              "      <td>69.505621</td>\n",
              "      <td>55.335345</td>\n",
              "      <td>1016.774682</td>\n",
              "      <td>1014.508518</td>\n",
              "      <td>4.767152</td>\n",
              "      <td>4.926682</td>\n",
              "      <td>17.609216</td>\n",
              "      <td>21.493420</td>\n",
              "      <td>0.293396</td>\n",
              "      <td>0.453918</td>\n",
              "    </tr>\n",
              "    <tr>\n",
              "      <th>std</th>\n",
              "      <td>837.645705</td>\n",
              "      <td>6.397324</td>\n",
              "      <td>6.084032</td>\n",
              "      <td>6.681013</td>\n",
              "      <td>8.399269</td>\n",
              "      <td>3.549384</td>\n",
              "      <td>3.958287</td>\n",
              "      <td>4.788052</td>\n",
              "      <td>14.221336</td>\n",
              "      <td>4.634019</td>\n",
              "      <td>...</td>\n",
              "      <td>17.671186</td>\n",
              "      <td>20.907040</td>\n",
              "      <td>6.987625</td>\n",
              "      <td>6.877345</td>\n",
              "      <td>2.741416</td>\n",
              "      <td>2.586083</td>\n",
              "      <td>6.189396</td>\n",
              "      <td>6.535474</td>\n",
              "      <td>0.455328</td>\n",
              "      <td>0.497882</td>\n",
              "    </tr>\n",
              "    <tr>\n",
              "      <th>min</th>\n",
              "      <td>0.000000</td>\n",
              "      <td>0.000000</td>\n",
              "      <td>-4.700000</td>\n",
              "      <td>4.100000</td>\n",
              "      <td>0.000000</td>\n",
              "      <td>0.000000</td>\n",
              "      <td>0.000000</td>\n",
              "      <td>0.000000</td>\n",
              "      <td>9.000000</td>\n",
              "      <td>0.000000</td>\n",
              "      <td>...</td>\n",
              "      <td>3.000000</td>\n",
              "      <td>0.000000</td>\n",
              "      <td>980.500000</td>\n",
              "      <td>979.000000</td>\n",
              "      <td>0.000000</td>\n",
              "      <td>0.000000</td>\n",
              "      <td>-0.700000</td>\n",
              "      <td>3.700000</td>\n",
              "      <td>0.000000</td>\n",
              "      <td>0.000000</td>\n",
              "    </tr>\n",
              "    <tr>\n",
              "      <th>25%</th>\n",
              "      <td>984.000000</td>\n",
              "      <td>6.000000</td>\n",
              "      <td>8.600000</td>\n",
              "      <td>17.900000</td>\n",
              "      <td>0.000000</td>\n",
              "      <td>2.400000</td>\n",
              "      <td>3.400000</td>\n",
              "      <td>3.000000</td>\n",
              "      <td>31.000000</td>\n",
              "      <td>3.000000</td>\n",
              "      <td>...</td>\n",
              "      <td>58.000000</td>\n",
              "      <td>41.000000</td>\n",
              "      <td>1012.200000</td>\n",
              "      <td>1009.900000</td>\n",
              "      <td>2.000000</td>\n",
              "      <td>3.000000</td>\n",
              "      <td>12.700000</td>\n",
              "      <td>16.500000</td>\n",
              "      <td>0.000000</td>\n",
              "      <td>0.000000</td>\n",
              "    </tr>\n",
              "    <tr>\n",
              "      <th>50%</th>\n",
              "      <td>1651.000000</td>\n",
              "      <td>11.000000</td>\n",
              "      <td>13.100000</td>\n",
              "      <td>22.700000</td>\n",
              "      <td>0.000000</td>\n",
              "      <td>4.400000</td>\n",
              "      <td>7.200000</td>\n",
              "      <td>8.000000</td>\n",
              "      <td>41.000000</td>\n",
              "      <td>7.000000</td>\n",
              "      <td>...</td>\n",
              "      <td>70.000000</td>\n",
              "      <td>56.000000</td>\n",
              "      <td>1016.800000</td>\n",
              "      <td>1014.400000</td>\n",
              "      <td>6.000000</td>\n",
              "      <td>6.000000</td>\n",
              "      <td>17.300000</td>\n",
              "      <td>21.100000</td>\n",
              "      <td>0.000000</td>\n",
              "      <td>0.000000</td>\n",
              "    </tr>\n",
              "    <tr>\n",
              "      <th>75%</th>\n",
              "      <td>2381.000000</td>\n",
              "      <td>17.000000</td>\n",
              "      <td>18.000000</td>\n",
              "      <td>28.100000</td>\n",
              "      <td>1.800000</td>\n",
              "      <td>7.000000</td>\n",
              "      <td>10.000000</td>\n",
              "      <td>12.000000</td>\n",
              "      <td>50.000000</td>\n",
              "      <td>11.000000</td>\n",
              "      <td>...</td>\n",
              "      <td>83.000000</td>\n",
              "      <td>70.000000</td>\n",
              "      <td>1021.400000</td>\n",
              "      <td>1019.000000</td>\n",
              "      <td>7.000000</td>\n",
              "      <td>7.000000</td>\n",
              "      <td>22.300000</td>\n",
              "      <td>26.200000</td>\n",
              "      <td>1.000000</td>\n",
              "      <td>1.000000</td>\n",
              "    </tr>\n",
              "    <tr>\n",
              "      <th>max</th>\n",
              "      <td>3415.000000</td>\n",
              "      <td>22.000000</td>\n",
              "      <td>31.400000</td>\n",
              "      <td>46.800000</td>\n",
              "      <td>206.200000</td>\n",
              "      <td>59.800000</td>\n",
              "      <td>14.500000</td>\n",
              "      <td>15.000000</td>\n",
              "      <td>122.000000</td>\n",
              "      <td>15.000000</td>\n",
              "      <td>...</td>\n",
              "      <td>100.000000</td>\n",
              "      <td>100.000000</td>\n",
              "      <td>1040.200000</td>\n",
              "      <td>1037.000000</td>\n",
              "      <td>8.000000</td>\n",
              "      <td>9.000000</td>\n",
              "      <td>39.400000</td>\n",
              "      <td>46.100000</td>\n",
              "      <td>1.000000</td>\n",
              "      <td>1.000000</td>\n",
              "    </tr>\n",
              "  </tbody>\n",
              "</table>\n",
              "<p>8 rows × 23 columns</p>\n",
              "</div>\n",
              "      <button class=\"colab-df-convert\" onclick=\"convertToInteractive('df-3bd6509d-8ee5-463b-a959-a1e26cf35114')\"\n",
              "              title=\"Convert this dataframe to an interactive table.\"\n",
              "              style=\"display:none;\">\n",
              "        \n",
              "  <svg xmlns=\"http://www.w3.org/2000/svg\" height=\"24px\"viewBox=\"0 0 24 24\"\n",
              "       width=\"24px\">\n",
              "    <path d=\"M0 0h24v24H0V0z\" fill=\"none\"/>\n",
              "    <path d=\"M18.56 5.44l.94 2.06.94-2.06 2.06-.94-2.06-.94-.94-2.06-.94 2.06-2.06.94zm-11 1L8.5 8.5l.94-2.06 2.06-.94-2.06-.94L8.5 2.5l-.94 2.06-2.06.94zm10 10l.94 2.06.94-2.06 2.06-.94-2.06-.94-.94-2.06-.94 2.06-2.06.94z\"/><path d=\"M17.41 7.96l-1.37-1.37c-.4-.4-.92-.59-1.43-.59-.52 0-1.04.2-1.43.59L10.3 9.45l-7.72 7.72c-.78.78-.78 2.05 0 2.83L4 21.41c.39.39.9.59 1.41.59.51 0 1.02-.2 1.41-.59l7.78-7.78 2.81-2.81c.8-.78.8-2.07 0-2.86zM5.41 20L4 18.59l7.72-7.72 1.47 1.35L5.41 20z\"/>\n",
              "  </svg>\n",
              "      </button>\n",
              "      \n",
              "  <style>\n",
              "    .colab-df-container {\n",
              "      display:flex;\n",
              "      flex-wrap:wrap;\n",
              "      gap: 12px;\n",
              "    }\n",
              "\n",
              "    .colab-df-convert {\n",
              "      background-color: #E8F0FE;\n",
              "      border: none;\n",
              "      border-radius: 50%;\n",
              "      cursor: pointer;\n",
              "      display: none;\n",
              "      fill: #1967D2;\n",
              "      height: 32px;\n",
              "      padding: 0 0 0 0;\n",
              "      width: 32px;\n",
              "    }\n",
              "\n",
              "    .colab-df-convert:hover {\n",
              "      background-color: #E2EBFA;\n",
              "      box-shadow: 0px 1px 2px rgba(60, 64, 67, 0.3), 0px 1px 3px 1px rgba(60, 64, 67, 0.15);\n",
              "      fill: #174EA6;\n",
              "    }\n",
              "\n",
              "    [theme=dark] .colab-df-convert {\n",
              "      background-color: #3B4455;\n",
              "      fill: #D2E3FC;\n",
              "    }\n",
              "\n",
              "    [theme=dark] .colab-df-convert:hover {\n",
              "      background-color: #434B5C;\n",
              "      box-shadow: 0px 1px 3px 1px rgba(0, 0, 0, 0.15);\n",
              "      filter: drop-shadow(0px 1px 2px rgba(0, 0, 0, 0.3));\n",
              "      fill: #FFFFFF;\n",
              "    }\n",
              "  </style>\n",
              "\n",
              "      <script>\n",
              "        const buttonEl =\n",
              "          document.querySelector('#df-3bd6509d-8ee5-463b-a959-a1e26cf35114 button.colab-df-convert');\n",
              "        buttonEl.style.display =\n",
              "          google.colab.kernel.accessAllowed ? 'block' : 'none';\n",
              "\n",
              "        async function convertToInteractive(key) {\n",
              "          const element = document.querySelector('#df-3bd6509d-8ee5-463b-a959-a1e26cf35114');\n",
              "          const dataTable =\n",
              "            await google.colab.kernel.invokeFunction('convertToInteractive',\n",
              "                                                     [key], {});\n",
              "          if (!dataTable) return;\n",
              "\n",
              "          const docLinkHtml = 'Like what you see? Visit the ' +\n",
              "            '<a target=\"_blank\" href=https://colab.research.google.com/notebooks/data_table.ipynb>data table notebook</a>'\n",
              "            + ' to learn more about interactive tables.';\n",
              "          element.innerHTML = '';\n",
              "          dataTable['output_type'] = 'display_data';\n",
              "          await google.colab.output.renderOutput(dataTable, element);\n",
              "          const docLink = document.createElement('div');\n",
              "          docLink.innerHTML = docLinkHtml;\n",
              "          element.appendChild(docLink);\n",
              "        }\n",
              "      </script>\n",
              "    </div>\n",
              "  </div>\n",
              "  "
            ]
          },
          "metadata": {},
          "execution_count": 5
        }
      ]
    },
    {
      "cell_type": "code",
      "metadata": {
        "id": "4z466pWsvpa1",
        "colab": {
          "base_uri": "https://localhost:8080/"
        },
        "outputId": "c6654fc4-96cf-45c4-ae76-671e45d625bc"
      },
      "source": [
        "df.isnull().sum() "
      ],
      "execution_count": null,
      "outputs": [
        {
          "output_type": "execute_result",
          "data": {
            "text/plain": [
              "Date             0\n",
              "Location         0\n",
              "MinTemp          0\n",
              "MaxTemp          0\n",
              "Rainfall         0\n",
              "Evaporation      0\n",
              "Sunshine         0\n",
              "WindGustDir      0\n",
              "WindGustSpeed    0\n",
              "WindDir9am       0\n",
              "WindDir3pm       0\n",
              "WindSpeed9am     0\n",
              "WindSpeed3pm     0\n",
              "Humidity9am      0\n",
              "Humidity3pm      0\n",
              "Pressure9am      0\n",
              "Pressure3pm      0\n",
              "Cloud9am         0\n",
              "Cloud3pm         0\n",
              "Temp9am          0\n",
              "Temp3pm          0\n",
              "RainToday        0\n",
              "RainTomorrow     0\n",
              "dtype: int64"
            ]
          },
          "metadata": {},
          "execution_count": 6
        }
      ]
    },
    {
      "cell_type": "markdown",
      "metadata": {
        "id": "c-BNxcmrvpa2"
      },
      "source": [
        "<h3 style=\"background-color:#ABFF9B;font-size:20px;color:#00033E;font-weight : bold\">Use Feature Encoding :</h3>"
      ]
    },
    {
      "cell_type": "code",
      "metadata": {
        "id": "FZmvqTMxvpa2",
        "colab": {
          "base_uri": "https://localhost:8080/"
        },
        "outputId": "66a507fa-68d8-4850-c21b-a4d604ced9ff"
      },
      "source": [
        "ohe = pd.get_dummies(data=df)\n",
        "print(ohe.shape)\n",
        "ohe.head()\n",
        "k = (ohe!=df)\n",
        "print(k.sum())"
      ],
      "execution_count": null,
      "outputs": [
        {
          "output_type": "stream",
          "name": "stdout",
          "text": [
            "(24196, 23)\n",
            "Date             0\n",
            "Location         0\n",
            "MinTemp          0\n",
            "MaxTemp          0\n",
            "Rainfall         0\n",
            "Evaporation      0\n",
            "Sunshine         0\n",
            "WindGustDir      0\n",
            "WindGustSpeed    0\n",
            "WindDir9am       0\n",
            "WindDir3pm       0\n",
            "WindSpeed9am     0\n",
            "WindSpeed3pm     0\n",
            "Humidity9am      0\n",
            "Humidity3pm      0\n",
            "Pressure9am      0\n",
            "Pressure3pm      0\n",
            "Cloud9am         0\n",
            "Cloud3pm         0\n",
            "Temp9am          0\n",
            "Temp3pm          0\n",
            "RainToday        0\n",
            "RainTomorrow     0\n",
            "dtype: int64\n"
          ]
        }
      ]
    },
    {
      "cell_type": "markdown",
      "metadata": {
        "id": "pm9NZc9Bvpa2"
      },
      "source": [
        "<h1 style=\"background-color:#ABFF9B;font-size:20px;color:#00033E;font-weight : bold\">Split the data into train and test.</h1>"
      ]
    },
    {
      "cell_type": "code",
      "metadata": {
        "id": "ENos_-58vpa2"
      },
      "source": [
        "from sklearn.model_selection import train_test_split\n",
        "\n",
        "y = df['RainTomorrow']\n",
        "X = df.drop(['RainTomorrow'], axis=1)\n",
        "X_train, X_test, y_train, y_test = train_test_split(X,y, random_state = 2021, test_size=0.2)"
      ],
      "execution_count": null,
      "outputs": []
    },
    {
      "cell_type": "code",
      "metadata": {
        "id": "9z0dhowPvpa2",
        "colab": {
          "base_uri": "https://localhost:8080/"
        },
        "outputId": "176d3978-c526-4a38-c852-dae0e51eb067"
      },
      "source": [
        "print(\"X_train:\", X_train.shape)\n",
        "print(\"X_test:\",X_test.shape)\n",
        "print(\"y_train:\",y_train.shape)\n",
        "print(\"y_test:\",y_test.shape)"
      ],
      "execution_count": null,
      "outputs": [
        {
          "output_type": "stream",
          "name": "stdout",
          "text": [
            "X_train: (19356, 22)\n",
            "X_test: (4840, 22)\n",
            "y_train: (19356,)\n",
            "y_test: (4840,)\n"
          ]
        }
      ]
    },
    {
      "cell_type": "code",
      "metadata": {
        "colab": {
          "base_uri": "https://localhost:8080/",
          "height": 487
        },
        "id": "Ni6Dl9RHjDP1",
        "outputId": "a3a26053-22ce-4827-90bb-f146b7e21337"
      },
      "source": [
        "X_train"
      ],
      "execution_count": null,
      "outputs": [
        {
          "output_type": "execute_result",
          "data": {
            "text/plain": [
              "       Date  Location  MinTemp  MaxTemp  Rainfall  Evaporation  Sunshine  \\\n",
              "7320   2257        18     23.1     28.3       0.0          2.6       0.8   \n",
              "5641   1578        10     17.6     23.1       0.4          4.8       7.4   \n",
              "9515   1881        14     13.5     19.0       0.2          4.6       2.1   \n",
              "16297   861        10     20.6     25.5       0.0          6.8      10.6   \n",
              "7017   2634         1     18.4     31.2       0.0          6.0      11.1   \n",
              "...     ...       ...      ...      ...       ...          ...       ...   \n",
              "22486  1147         4     22.6     26.3      18.4          3.4       0.0   \n",
              "20318  3211        20      7.8     25.5       0.0          7.4      13.1   \n",
              "2669   2729        14      4.6     15.5       0.2          1.2       5.6   \n",
              "17536   432         0     23.1     30.5      29.8          6.4       7.4   \n",
              "6201    734        14      7.4     19.4       0.0          5.4      11.7   \n",
              "\n",
              "       WindGustDir  WindGustSpeed  WindDir9am  ...  WindSpeed3pm  Humidity9am  \\\n",
              "7320             2             39           9  ...            24           79   \n",
              "5641             0             41           2  ...            30           74   \n",
              "9515            14             57           6  ...            31           80   \n",
              "16297            0             63           0  ...            33           68   \n",
              "7017             9             39           9  ...            30           64   \n",
              "...            ...            ...         ...  ...           ...          ...   \n",
              "22486            1             44           1  ...            24           85   \n",
              "20318           10             24           8  ...             9           64   \n",
              "2669             3             44           3  ...            20           91   \n",
              "17536            4             28           5  ...            11           73   \n",
              "6201            15             39          14  ...            26           75   \n",
              "\n",
              "       Humidity3pm  Pressure9am  Pressure3pm  Cloud9am  Cloud3pm  Temp9am  \\\n",
              "7320            74       1013.8       1010.8         7         7     25.6   \n",
              "5641            74       1023.3       1020.7         7         2     20.0   \n",
              "9515            89       1012.1       1009.9         8         6     17.2   \n",
              "16297           64       1021.7       1020.0         2         4     22.7   \n",
              "7017            39       1014.6       1010.8         1         1     25.1   \n",
              "...            ...          ...          ...       ...       ...      ...   \n",
              "22486           78       1011.8       1010.7         8         7     24.5   \n",
              "20318           35       1016.1       1014.0         3         5     15.4   \n",
              "2669            57       1018.4       1013.2         8         8      8.0   \n",
              "17536           51       1016.3       1015.0         6         6     27.3   \n",
              "6201            63       1026.1       1024.1         3         1     16.0   \n",
              "\n",
              "       Temp3pm  RainToday  \n",
              "7320      25.9          0  \n",
              "5641      21.6          0  \n",
              "9515      19.0          0  \n",
              "16297     24.8          0  \n",
              "7017      30.5          0  \n",
              "...        ...        ...  \n",
              "22486     25.7          1  \n",
              "20318     24.2          0  \n",
              "2669      14.5          0  \n",
              "17536     29.5          1  \n",
              "6201      19.0          0  \n",
              "\n",
              "[19356 rows x 22 columns]"
            ],
            "text/html": [
              "\n",
              "  <div id=\"df-060ea480-2d2c-47a4-a091-c334a80e4577\">\n",
              "    <div class=\"colab-df-container\">\n",
              "      <div>\n",
              "<style scoped>\n",
              "    .dataframe tbody tr th:only-of-type {\n",
              "        vertical-align: middle;\n",
              "    }\n",
              "\n",
              "    .dataframe tbody tr th {\n",
              "        vertical-align: top;\n",
              "    }\n",
              "\n",
              "    .dataframe thead th {\n",
              "        text-align: right;\n",
              "    }\n",
              "</style>\n",
              "<table border=\"1\" class=\"dataframe\">\n",
              "  <thead>\n",
              "    <tr style=\"text-align: right;\">\n",
              "      <th></th>\n",
              "      <th>Date</th>\n",
              "      <th>Location</th>\n",
              "      <th>MinTemp</th>\n",
              "      <th>MaxTemp</th>\n",
              "      <th>Rainfall</th>\n",
              "      <th>Evaporation</th>\n",
              "      <th>Sunshine</th>\n",
              "      <th>WindGustDir</th>\n",
              "      <th>WindGustSpeed</th>\n",
              "      <th>WindDir9am</th>\n",
              "      <th>...</th>\n",
              "      <th>WindSpeed3pm</th>\n",
              "      <th>Humidity9am</th>\n",
              "      <th>Humidity3pm</th>\n",
              "      <th>Pressure9am</th>\n",
              "      <th>Pressure3pm</th>\n",
              "      <th>Cloud9am</th>\n",
              "      <th>Cloud3pm</th>\n",
              "      <th>Temp9am</th>\n",
              "      <th>Temp3pm</th>\n",
              "      <th>RainToday</th>\n",
              "    </tr>\n",
              "  </thead>\n",
              "  <tbody>\n",
              "    <tr>\n",
              "      <th>7320</th>\n",
              "      <td>2257</td>\n",
              "      <td>18</td>\n",
              "      <td>23.1</td>\n",
              "      <td>28.3</td>\n",
              "      <td>0.0</td>\n",
              "      <td>2.6</td>\n",
              "      <td>0.8</td>\n",
              "      <td>2</td>\n",
              "      <td>39</td>\n",
              "      <td>9</td>\n",
              "      <td>...</td>\n",
              "      <td>24</td>\n",
              "      <td>79</td>\n",
              "      <td>74</td>\n",
              "      <td>1013.8</td>\n",
              "      <td>1010.8</td>\n",
              "      <td>7</td>\n",
              "      <td>7</td>\n",
              "      <td>25.6</td>\n",
              "      <td>25.9</td>\n",
              "      <td>0</td>\n",
              "    </tr>\n",
              "    <tr>\n",
              "      <th>5641</th>\n",
              "      <td>1578</td>\n",
              "      <td>10</td>\n",
              "      <td>17.6</td>\n",
              "      <td>23.1</td>\n",
              "      <td>0.4</td>\n",
              "      <td>4.8</td>\n",
              "      <td>7.4</td>\n",
              "      <td>0</td>\n",
              "      <td>41</td>\n",
              "      <td>2</td>\n",
              "      <td>...</td>\n",
              "      <td>30</td>\n",
              "      <td>74</td>\n",
              "      <td>74</td>\n",
              "      <td>1023.3</td>\n",
              "      <td>1020.7</td>\n",
              "      <td>7</td>\n",
              "      <td>2</td>\n",
              "      <td>20.0</td>\n",
              "      <td>21.6</td>\n",
              "      <td>0</td>\n",
              "    </tr>\n",
              "    <tr>\n",
              "      <th>9515</th>\n",
              "      <td>1881</td>\n",
              "      <td>14</td>\n",
              "      <td>13.5</td>\n",
              "      <td>19.0</td>\n",
              "      <td>0.2</td>\n",
              "      <td>4.6</td>\n",
              "      <td>2.1</td>\n",
              "      <td>14</td>\n",
              "      <td>57</td>\n",
              "      <td>6</td>\n",
              "      <td>...</td>\n",
              "      <td>31</td>\n",
              "      <td>80</td>\n",
              "      <td>89</td>\n",
              "      <td>1012.1</td>\n",
              "      <td>1009.9</td>\n",
              "      <td>8</td>\n",
              "      <td>6</td>\n",
              "      <td>17.2</td>\n",
              "      <td>19.0</td>\n",
              "      <td>0</td>\n",
              "    </tr>\n",
              "    <tr>\n",
              "      <th>16297</th>\n",
              "      <td>861</td>\n",
              "      <td>10</td>\n",
              "      <td>20.6</td>\n",
              "      <td>25.5</td>\n",
              "      <td>0.0</td>\n",
              "      <td>6.8</td>\n",
              "      <td>10.6</td>\n",
              "      <td>0</td>\n",
              "      <td>63</td>\n",
              "      <td>0</td>\n",
              "      <td>...</td>\n",
              "      <td>33</td>\n",
              "      <td>68</td>\n",
              "      <td>64</td>\n",
              "      <td>1021.7</td>\n",
              "      <td>1020.0</td>\n",
              "      <td>2</td>\n",
              "      <td>4</td>\n",
              "      <td>22.7</td>\n",
              "      <td>24.8</td>\n",
              "      <td>0</td>\n",
              "    </tr>\n",
              "    <tr>\n",
              "      <th>7017</th>\n",
              "      <td>2634</td>\n",
              "      <td>1</td>\n",
              "      <td>18.4</td>\n",
              "      <td>31.2</td>\n",
              "      <td>0.0</td>\n",
              "      <td>6.0</td>\n",
              "      <td>11.1</td>\n",
              "      <td>9</td>\n",
              "      <td>39</td>\n",
              "      <td>9</td>\n",
              "      <td>...</td>\n",
              "      <td>30</td>\n",
              "      <td>64</td>\n",
              "      <td>39</td>\n",
              "      <td>1014.6</td>\n",
              "      <td>1010.8</td>\n",
              "      <td>1</td>\n",
              "      <td>1</td>\n",
              "      <td>25.1</td>\n",
              "      <td>30.5</td>\n",
              "      <td>0</td>\n",
              "    </tr>\n",
              "    <tr>\n",
              "      <th>...</th>\n",
              "      <td>...</td>\n",
              "      <td>...</td>\n",
              "      <td>...</td>\n",
              "      <td>...</td>\n",
              "      <td>...</td>\n",
              "      <td>...</td>\n",
              "      <td>...</td>\n",
              "      <td>...</td>\n",
              "      <td>...</td>\n",
              "      <td>...</td>\n",
              "      <td>...</td>\n",
              "      <td>...</td>\n",
              "      <td>...</td>\n",
              "      <td>...</td>\n",
              "      <td>...</td>\n",
              "      <td>...</td>\n",
              "      <td>...</td>\n",
              "      <td>...</td>\n",
              "      <td>...</td>\n",
              "      <td>...</td>\n",
              "      <td>...</td>\n",
              "    </tr>\n",
              "    <tr>\n",
              "      <th>22486</th>\n",
              "      <td>1147</td>\n",
              "      <td>4</td>\n",
              "      <td>22.6</td>\n",
              "      <td>26.3</td>\n",
              "      <td>18.4</td>\n",
              "      <td>3.4</td>\n",
              "      <td>0.0</td>\n",
              "      <td>1</td>\n",
              "      <td>44</td>\n",
              "      <td>1</td>\n",
              "      <td>...</td>\n",
              "      <td>24</td>\n",
              "      <td>85</td>\n",
              "      <td>78</td>\n",
              "      <td>1011.8</td>\n",
              "      <td>1010.7</td>\n",
              "      <td>8</td>\n",
              "      <td>7</td>\n",
              "      <td>24.5</td>\n",
              "      <td>25.7</td>\n",
              "      <td>1</td>\n",
              "    </tr>\n",
              "    <tr>\n",
              "      <th>20318</th>\n",
              "      <td>3211</td>\n",
              "      <td>20</td>\n",
              "      <td>7.8</td>\n",
              "      <td>25.5</td>\n",
              "      <td>0.0</td>\n",
              "      <td>7.4</td>\n",
              "      <td>13.1</td>\n",
              "      <td>10</td>\n",
              "      <td>24</td>\n",
              "      <td>8</td>\n",
              "      <td>...</td>\n",
              "      <td>9</td>\n",
              "      <td>64</td>\n",
              "      <td>35</td>\n",
              "      <td>1016.1</td>\n",
              "      <td>1014.0</td>\n",
              "      <td>3</td>\n",
              "      <td>5</td>\n",
              "      <td>15.4</td>\n",
              "      <td>24.2</td>\n",
              "      <td>0</td>\n",
              "    </tr>\n",
              "    <tr>\n",
              "      <th>2669</th>\n",
              "      <td>2729</td>\n",
              "      <td>14</td>\n",
              "      <td>4.6</td>\n",
              "      <td>15.5</td>\n",
              "      <td>0.2</td>\n",
              "      <td>1.2</td>\n",
              "      <td>5.6</td>\n",
              "      <td>3</td>\n",
              "      <td>44</td>\n",
              "      <td>3</td>\n",
              "      <td>...</td>\n",
              "      <td>20</td>\n",
              "      <td>91</td>\n",
              "      <td>57</td>\n",
              "      <td>1018.4</td>\n",
              "      <td>1013.2</td>\n",
              "      <td>8</td>\n",
              "      <td>8</td>\n",
              "      <td>8.0</td>\n",
              "      <td>14.5</td>\n",
              "      <td>0</td>\n",
              "    </tr>\n",
              "    <tr>\n",
              "      <th>17536</th>\n",
              "      <td>432</td>\n",
              "      <td>0</td>\n",
              "      <td>23.1</td>\n",
              "      <td>30.5</td>\n",
              "      <td>29.8</td>\n",
              "      <td>6.4</td>\n",
              "      <td>7.4</td>\n",
              "      <td>4</td>\n",
              "      <td>28</td>\n",
              "      <td>5</td>\n",
              "      <td>...</td>\n",
              "      <td>11</td>\n",
              "      <td>73</td>\n",
              "      <td>51</td>\n",
              "      <td>1016.3</td>\n",
              "      <td>1015.0</td>\n",
              "      <td>6</td>\n",
              "      <td>6</td>\n",
              "      <td>27.3</td>\n",
              "      <td>29.5</td>\n",
              "      <td>1</td>\n",
              "    </tr>\n",
              "    <tr>\n",
              "      <th>6201</th>\n",
              "      <td>734</td>\n",
              "      <td>14</td>\n",
              "      <td>7.4</td>\n",
              "      <td>19.4</td>\n",
              "      <td>0.0</td>\n",
              "      <td>5.4</td>\n",
              "      <td>11.7</td>\n",
              "      <td>15</td>\n",
              "      <td>39</td>\n",
              "      <td>14</td>\n",
              "      <td>...</td>\n",
              "      <td>26</td>\n",
              "      <td>75</td>\n",
              "      <td>63</td>\n",
              "      <td>1026.1</td>\n",
              "      <td>1024.1</td>\n",
              "      <td>3</td>\n",
              "      <td>1</td>\n",
              "      <td>16.0</td>\n",
              "      <td>19.0</td>\n",
              "      <td>0</td>\n",
              "    </tr>\n",
              "  </tbody>\n",
              "</table>\n",
              "<p>19356 rows × 22 columns</p>\n",
              "</div>\n",
              "      <button class=\"colab-df-convert\" onclick=\"convertToInteractive('df-060ea480-2d2c-47a4-a091-c334a80e4577')\"\n",
              "              title=\"Convert this dataframe to an interactive table.\"\n",
              "              style=\"display:none;\">\n",
              "        \n",
              "  <svg xmlns=\"http://www.w3.org/2000/svg\" height=\"24px\"viewBox=\"0 0 24 24\"\n",
              "       width=\"24px\">\n",
              "    <path d=\"M0 0h24v24H0V0z\" fill=\"none\"/>\n",
              "    <path d=\"M18.56 5.44l.94 2.06.94-2.06 2.06-.94-2.06-.94-.94-2.06-.94 2.06-2.06.94zm-11 1L8.5 8.5l.94-2.06 2.06-.94-2.06-.94L8.5 2.5l-.94 2.06-2.06.94zm10 10l.94 2.06.94-2.06 2.06-.94-2.06-.94-.94-2.06-.94 2.06-2.06.94z\"/><path d=\"M17.41 7.96l-1.37-1.37c-.4-.4-.92-.59-1.43-.59-.52 0-1.04.2-1.43.59L10.3 9.45l-7.72 7.72c-.78.78-.78 2.05 0 2.83L4 21.41c.39.39.9.59 1.41.59.51 0 1.02-.2 1.41-.59l7.78-7.78 2.81-2.81c.8-.78.8-2.07 0-2.86zM5.41 20L4 18.59l7.72-7.72 1.47 1.35L5.41 20z\"/>\n",
              "  </svg>\n",
              "      </button>\n",
              "      \n",
              "  <style>\n",
              "    .colab-df-container {\n",
              "      display:flex;\n",
              "      flex-wrap:wrap;\n",
              "      gap: 12px;\n",
              "    }\n",
              "\n",
              "    .colab-df-convert {\n",
              "      background-color: #E8F0FE;\n",
              "      border: none;\n",
              "      border-radius: 50%;\n",
              "      cursor: pointer;\n",
              "      display: none;\n",
              "      fill: #1967D2;\n",
              "      height: 32px;\n",
              "      padding: 0 0 0 0;\n",
              "      width: 32px;\n",
              "    }\n",
              "\n",
              "    .colab-df-convert:hover {\n",
              "      background-color: #E2EBFA;\n",
              "      box-shadow: 0px 1px 2px rgba(60, 64, 67, 0.3), 0px 1px 3px 1px rgba(60, 64, 67, 0.15);\n",
              "      fill: #174EA6;\n",
              "    }\n",
              "\n",
              "    [theme=dark] .colab-df-convert {\n",
              "      background-color: #3B4455;\n",
              "      fill: #D2E3FC;\n",
              "    }\n",
              "\n",
              "    [theme=dark] .colab-df-convert:hover {\n",
              "      background-color: #434B5C;\n",
              "      box-shadow: 0px 1px 3px 1px rgba(0, 0, 0, 0.15);\n",
              "      filter: drop-shadow(0px 1px 2px rgba(0, 0, 0, 0.3));\n",
              "      fill: #FFFFFF;\n",
              "    }\n",
              "  </style>\n",
              "\n",
              "      <script>\n",
              "        const buttonEl =\n",
              "          document.querySelector('#df-060ea480-2d2c-47a4-a091-c334a80e4577 button.colab-df-convert');\n",
              "        buttonEl.style.display =\n",
              "          google.colab.kernel.accessAllowed ? 'block' : 'none';\n",
              "\n",
              "        async function convertToInteractive(key) {\n",
              "          const element = document.querySelector('#df-060ea480-2d2c-47a4-a091-c334a80e4577');\n",
              "          const dataTable =\n",
              "            await google.colab.kernel.invokeFunction('convertToInteractive',\n",
              "                                                     [key], {});\n",
              "          if (!dataTable) return;\n",
              "\n",
              "          const docLinkHtml = 'Like what you see? Visit the ' +\n",
              "            '<a target=\"_blank\" href=https://colab.research.google.com/notebooks/data_table.ipynb>data table notebook</a>'\n",
              "            + ' to learn more about interactive tables.';\n",
              "          element.innerHTML = '';\n",
              "          dataTable['output_type'] = 'display_data';\n",
              "          await google.colab.output.renderOutput(dataTable, element);\n",
              "          const docLink = document.createElement('div');\n",
              "          docLink.innerHTML = docLinkHtml;\n",
              "          element.appendChild(docLink);\n",
              "        }\n",
              "      </script>\n",
              "    </div>\n",
              "  </div>\n",
              "  "
            ]
          },
          "metadata": {},
          "execution_count": 10
        }
      ]
    },
    {
      "cell_type": "markdown",
      "metadata": {
        "id": "qgbT2Gqdvpa3"
      },
      "source": [
        "<h2 style=\"background-color:#ABFF9B;font-size:20px;color:#00033E;font-weight : bold\">Scale the data using Standard Scaler :</h2>"
      ]
    },
    {
      "cell_type": "markdown",
      "metadata": {
        "id": "7gTqHS7MjZWW"
      },
      "source": [
        "Many machine learning estimators require dataset standardization: if the individual features do not more or less resemble standard normally distributed data, they may perform poorly.\n",
        "\n",
        "For instance many elements used in the objective function of a learning algorithm (such as the RBF kernel of Support Vector Machines or the L1 and L2 regularizers of linear models) assume that all features are centered around 0 and have variance in the same order. If a feature has a variance that is orders of magnitude larger that others, it might dominate the objective function and make the estimator unable to learn from other features correctly as expected."
      ]
    },
    {
      "cell_type": "code",
      "metadata": {
        "id": "3n7PsXYnvpa3"
      },
      "source": [
        "from sklearn.preprocessing import StandardScaler\n",
        "\n",
        "scaler = StandardScaler()\n",
        "X_train_scaled= scaler.fit_transform(X_train)\n",
        "X_test_scaled= scaler.transform(X_test)"
      ],
      "execution_count": null,
      "outputs": []
    },
    {
      "cell_type": "code",
      "metadata": {
        "colab": {
          "base_uri": "https://localhost:8080/"
        },
        "id": "HzENdJnEjHzl",
        "outputId": "ccb309e9-39dd-4aea-9062-8642dad16f3f"
      },
      "source": [
        "X_train_scaled.shape"
      ],
      "execution_count": null,
      "outputs": [
        {
          "output_type": "execute_result",
          "data": {
            "text/plain": [
              "(19356, 22)"
            ]
          },
          "metadata": {},
          "execution_count": 12
        }
      ]
    },
    {
      "cell_type": "markdown",
      "metadata": {
        "id": "IY8VC5sBvpa3"
      },
      "source": [
        "<h1 style=\"background-color:#ABFF9B;font-size:20px;color:#00033E;font-weight : bold\">Train a Logistic Regression with all default parameters</h1>"
      ]
    },
    {
      "cell_type": "code",
      "metadata": {
        "id": "8vZV0RUhvpa3",
        "colab": {
          "base_uri": "https://localhost:8080/"
        },
        "outputId": "78652d72-6a5b-4ebc-a42e-fcf06463d17c"
      },
      "source": [
        "from sklearn.linear_model import LogisticRegression\n",
        "logreg = LogisticRegression(random_state=2021)\n",
        "logreg.fit(X_train_scaled, y_train)"
      ],
      "execution_count": null,
      "outputs": [
        {
          "output_type": "execute_result",
          "data": {
            "text/plain": [
              "LogisticRegression(random_state=2021)"
            ]
          },
          "metadata": {},
          "execution_count": 13
        }
      ]
    },
    {
      "cell_type": "markdown",
      "metadata": {
        "id": "bnmjHAupvpa4"
      },
      "source": [
        "<h1 style=\"background-color:#ABFF9B;font-size:20px;color:#00033E;font-weight : bold\">Plot Confusion Matrix using plot_confusion_matrix module :</h1>"
      ]
    },
    {
      "cell_type": "code",
      "metadata": {
        "id": "E1SXfdSUvpa4",
        "colab": {
          "base_uri": "https://localhost:8080/",
          "height": 297
        },
        "outputId": "5f0e1a56-0129-48d8-cab0-173c169b483b"
      },
      "source": [
        "y_pred = logreg.predict(X_test_scaled)\n",
        "confusion_matrix_LR = confusion_matrix(y_test,y_pred)\n",
        "confusion_matrix_LR = plot_confusion_matrix(logreg, X_test_scaled,y_test)\n",
        "print(confusion_matrix_LR)"
      ],
      "execution_count": null,
      "outputs": [
        {
          "output_type": "stream",
          "name": "stdout",
          "text": [
            "<sklearn.metrics._plot.confusion_matrix.ConfusionMatrixDisplay object at 0x7f424888a9d0>\n"
          ]
        },
        {
          "output_type": "display_data",
          "data": {
            "text/plain": [
              "<Figure size 432x288 with 2 Axes>"
            ],
            "image/png": "[encoded data removed]"
          },
          "metadata": {
            "needs_background": "light"
          }
        }
      ]
    },
    {
      "cell_type": "markdown",
      "metadata": {
        "id": "pgN165X7vpa4"
      },
      "source": [
        "<h1 style=\"background-color:#ABFF9B;font-size:20px;color:#00033E;font-weight : bold\">Print out Classification Report for LR :</h1>"
      ]
    },
    {
      "cell_type": "code",
      "metadata": {
        "id": "FzcnzDD9vpa4",
        "colab": {
          "base_uri": "https://localhost:8080/"
        },
        "outputId": "a854910b-f537-43ca-8bf2-3f8d63abc7d3"
      },
      "source": [
        "print(classification_report(y_test,y_pred))"
      ],
      "execution_count": null,
      "outputs": [
        {
          "output_type": "stream",
          "name": "stdout",
          "text": [
            "              precision    recall  f1-score   support\n",
            "\n",
            "           0       0.80      0.83      0.81      2650\n",
            "           1       0.78      0.75      0.76      2190\n",
            "\n",
            "    accuracy                           0.79      4840\n",
            "   macro avg       0.79      0.79      0.79      4840\n",
            "weighted avg       0.79      0.79      0.79      4840\n",
            "\n"
          ]
        }
      ]
    },
    {
      "cell_type": "markdown",
      "metadata": {
        "id": "Xle8Hr2vvpa4"
      },
      "source": [
        "<h1 style=\"background-color:#ABFF9B;font-size:20px;color:#00033E;font-weight : bold\">Print Training and Testing Score along with Accuracy score for LR :</h1> "
      ]
    },
    {
      "cell_type": "code",
      "metadata": {
        "id": "ND1kWpJMvpa5",
        "colab": {
          "base_uri": "https://localhost:8080/"
        },
        "outputId": "ea81fe61-86eb-4a88-be9f-11f51fa3f3dc"
      },
      "source": [
        "print(\"Train Data Score: {}\".format(logreg.score(X_train_scaled, y_train)))\n",
        "print(\"Test Data Score: {}\".format(logreg.score(X_test_scaled, y_test)))"
      ],
      "execution_count": null,
      "outputs": [
        {
          "output_type": "stream",
          "name": "stdout",
          "text": [
            "Train Data Score: 0.8002686505476339\n",
            "Test Data Score: 0.7917355371900826\n"
          ]
        }
      ]
    },
    {
      "cell_type": "code",
      "metadata": {
        "id": "jm3sW4ZTvpa5",
        "colab": {
          "base_uri": "https://localhost:8080/"
        },
        "outputId": "644927d7-46c7-4289-f6b2-1d0b5d644590"
      },
      "source": [
        "print('Accuracy -> ',accuracy_score(y_test,y_pred))"
      ],
      "execution_count": null,
      "outputs": [
        {
          "output_type": "stream",
          "name": "stdout",
          "text": [
            "Accuracy ->  0.7917355371900826\n"
          ]
        }
      ]
    },
    {
      "cell_type": "markdown",
      "metadata": {
        "id": "T16gbfRQvpa5"
      },
      "source": [
        "<h3 style=\"background-color:#ABFF9B;font-size:15px;color:#00033E;font-weight : bold\">ROC - AUC Score for LR :</h3> "
      ]
    },
    {
      "cell_type": "code",
      "metadata": {
        "id": "IV0ubSL9vpa5",
        "colab": {
          "base_uri": "https://localhost:8080/"
        },
        "outputId": "086d7333-66c4-4fdc-8341-25227676adfe"
      },
      "source": [
        "print(roc_auc_score(y_test,y_pred))"
      ],
      "execution_count": null,
      "outputs": [
        {
          "output_type": "stream",
          "name": "stdout",
          "text": [
            "0.7877763418626691\n"
          ]
        }
      ]
    },
    {
      "cell_type": "markdown",
      "metadata": {
        "id": "og34rzbSvpa5"
      },
      "source": [
        "<h3 style=\"background-color:#ABFF9B;font-size:20px;color:#00033E;font-weight : bold\">Train SVM with C = 50 and gamma = scale :</h3>"
      ]
    },
    {
      "cell_type": "code",
      "metadata": {
        "id": "_fw1j2cxvpa5",
        "colab": {
          "base_uri": "https://localhost:8080/"
        },
        "outputId": "851db868-1358-4f29-c2cd-edcb30f2041d"
      },
      "source": [
        "from sklearn.pipeline import make_pipeline \n",
        "clf = make_pipeline(StandardScaler(), SVC(gamma='scale', C = 50, probability = True))\n",
        "clf.fit(X_train_scaled, y_train)"
      ],
      "execution_count": null,
      "outputs": [
        {
          "output_type": "execute_result",
          "data": {
            "text/plain": [
              "Pipeline(steps=[('standardscaler', StandardScaler()),\n",
              "                ('svc', SVC(C=50, probability=True))])"
            ]
          },
          "metadata": {},
          "execution_count": 19
        }
      ]
    },
    {
      "cell_type": "markdown",
      "metadata": {
        "id": "y8VRDRHXvpa6"
      },
      "source": [
        "<h1 style=\"background-color:#ABFF9B;font-size:20px;color:#00033E;font-weight : bold\">Plot Confusion Matrix for SVM :</h1>"
      ]
    },
    {
      "cell_type": "code",
      "metadata": {
        "id": "1TTVlekPvpa6",
        "colab": {
          "base_uri": "https://localhost:8080/",
          "height": 297
        },
        "outputId": "1bfa4569-88ec-4e4a-de3a-e47a9ad2568d"
      },
      "source": [
        "y_pred = clf.predict(X_test_scaled)\n",
        "confusion_matrix_LR = confusion_matrix(y_test,y_pred)\n",
        "confusion_matrix_LR = plot_confusion_matrix(clf, X_test_scaled,y_test)\n",
        "print(confusion_matrix_LR)"
      ],
      "execution_count": null,
      "outputs": [
        {
          "output_type": "stream",
          "name": "stdout",
          "text": [
            "<sklearn.metrics._plot.confusion_matrix.ConfusionMatrixDisplay object at 0x7f4245914110>\n"
          ]
        },
        {
          "output_type": "display_data",
          "data": {
            "text/plain": [
              "<Figure size 432x288 with 2 Axes>"
            ],
            "image/png": "[encoded data removed]"
          },
          "metadata": {
            "needs_background": "light"
          }
        }
      ]
    },
    {
      "cell_type": "markdown",
      "metadata": {
        "id": "TNWvmLSivpa6"
      },
      "source": [
        "<h1 style=\"background-color:#ABFF9B;font-size:20px;color:#00033E;font-weight : bold\">Print out Classification Report for SVM :</h1>"
      ]
    },
    {
      "cell_type": "code",
      "metadata": {
        "id": "yQDf6wOdvpa6",
        "colab": {
          "base_uri": "https://localhost:8080/"
        },
        "outputId": "e0fe9215-414f-4f74-c617-f10b0e39fa72"
      },
      "source": [
        "print(classification_report(y_test,y_pred))"
      ],
      "execution_count": null,
      "outputs": [
        {
          "output_type": "stream",
          "name": "stdout",
          "text": [
            "              precision    recall  f1-score   support\n",
            "\n",
            "           0       0.80      0.81      0.81      2650\n",
            "           1       0.76      0.76      0.76      2190\n",
            "\n",
            "    accuracy                           0.79      4840\n",
            "   macro avg       0.78      0.78      0.78      4840\n",
            "weighted avg       0.79      0.79      0.79      4840\n",
            "\n"
          ]
        }
      ]
    },
    {
      "cell_type": "markdown",
      "metadata": {
        "id": "SfF49qwIvpa7"
      },
      "source": [
        "<h3 style=\"background-color:#ABFF9B;font-size:20px;color:#00033E;font-weight : bold\">Print out Accuracy score for SVM :</h3>"
      ]
    },
    {
      "cell_type": "code",
      "metadata": {
        "id": "lH1lkfsFvpa7",
        "colab": {
          "base_uri": "https://localhost:8080/"
        },
        "outputId": "39e41df6-146c-4ce1-f601-23cf8daabc31"
      },
      "source": [
        "print('Accuracy -> ',accuracy_score(y_test,y_pred))"
      ],
      "execution_count": null,
      "outputs": [
        {
          "output_type": "stream",
          "name": "stdout",
          "text": [
            "Accuracy ->  0.7863636363636364\n"
          ]
        }
      ]
    },
    {
      "cell_type": "markdown",
      "metadata": {
        "id": "0tlgy05Jvpa7"
      },
      "source": [
        "<h1 style=\"background-color:#ABFF9B;font-size:20px;color:#00033E;font-weight : bold\">Print Training and Testing Score for SVM :</h1> "
      ]
    },
    {
      "cell_type": "code",
      "metadata": {
        "id": "yqofS78Xvpa7",
        "colab": {
          "base_uri": "https://localhost:8080/"
        },
        "outputId": "ffd9a2bd-9ae0-4374-84bb-d5b5fd0ac98b"
      },
      "source": [
        "print(\"Train Data Score: {}\".format(clf.score(X_train_scaled, y_train)))\n",
        "print(\"Test Data Score: {}\".format(clf.score(X_test_scaled, y_test)))"
      ],
      "execution_count": null,
      "outputs": [
        {
          "output_type": "stream",
          "name": "stdout",
          "text": [
            "Train Data Score: 0.9255528001653234\n",
            "Test Data Score: 0.7863636363636364\n"
          ]
        }
      ]
    },
    {
      "cell_type": "markdown",
      "metadata": {
        "id": "Ti_PCgHpvpa7"
      },
      "source": [
        "<h1 style=\"background-color:#ABFF9B;font-size:20px;color:#00033E;font-weight : bold\">Plot ROC curve and calculate ROC - AUC score for SVM :</h1> "
      ]
    },
    {
      "cell_type": "code",
      "metadata": {
        "id": "iml9q7hrvpa8",
        "colab": {
          "base_uri": "https://localhost:8080/",
          "height": 279
        },
        "outputId": "4f1881e7-0779-4a35-bfe6-d2862579f338"
      },
      "source": [
        "## Set appropriate X label, Y label and Title for the graph\n",
        "from sklearn import metrics\n",
        "metrics.plot_roc_curve(clf, X_test_scaled, y_test)\n",
        "plt.show()"
      ],
      "execution_count": null,
      "outputs": [
        {
          "output_type": "display_data",
          "data": {
            "text/plain": [
              "<Figure size 432x288 with 1 Axes>"
            ],
            "image/png": "[encoded data removed]"
          },
          "metadata": {
            "needs_background": "light"
          }
        }
      ]
    },
    {
      "cell_type": "code",
      "metadata": {
        "id": "T_ninnLwvpa8",
        "colab": {
          "base_uri": "https://localhost:8080/"
        },
        "outputId": "8216f63c-c678-4871-9397-65a11f21b3fc"
      },
      "source": [
        "## ======== YOUR CODE HERE ======== ##\n",
        "## Print out ROC score for SVM\n",
        "print(roc_auc_score(y_test,y_pred))\n",
        "## ================================ ##"
      ],
      "execution_count": null,
      "outputs": [
        {
          "output_type": "stream",
          "name": "stdout",
          "text": [
            "0.7842577754803137\n"
          ]
        }
      ]
    },
    {
      "cell_type": "markdown",
      "metadata": {
        "id": "YmpeyKWWvpa8"
      },
      "source": [
        "<h1 style=\"background-color:#ABFF9B;font-size:20px;color:#00033E;font-weight : bold\">Train SVM with C = 1 and gamma = scale :</h1> "
      ]
    },
    {
      "cell_type": "code",
      "metadata": {
        "id": "z9mfbGb9vpa8",
        "colab": {
          "base_uri": "https://localhost:8080/",
          "height": 283
        },
        "outputId": "11c3cc90-6bcf-4873-a669-76b5a5d9a5fb"
      },
      "source": [
        "## ======== YOUR CODE HERE ======== ##\n",
        "\n",
        "## Train SVM with new mentioned parameters\n",
        "clf = make_pipeline(StandardScaler(), SVC(gamma='scale', C = 1, probability = True))\n",
        "clf.fit(X_train_scaled, y_train)\n",
        "\n",
        "y_pred = clf.predict(X_test_scaled)\n",
        "confusion_matrix_LR = confusion_matrix(y_test,y_pred)\n",
        "confusion_matrix_LR = plot_confusion_matrix(clf, X_test_scaled,y_test)\n",
        "\n",
        "## ================================ ##"
      ],
      "execution_count": null,
      "outputs": [
        {
          "output_type": "display_data",
          "data": {
            "text/plain": [
              "<Figure size 432x288 with 2 Axes>"
            ],
            "image/png": "[encoded data removed]"
          },
          "metadata": {
            "needs_background": "light"
          }
        }
      ]
    },
    {
      "cell_type": "markdown",
      "metadata": {
        "id": "pKOp4Cbyvpa9"
      },
      "source": [
        "<h1 style=\"background-color:#ABFF9B;font-size:20px;color:#00033E;font-weight : bold\">Print out Classification Report for new SVM :</h1>"
      ]
    },
    {
      "cell_type": "code",
      "metadata": {
        "id": "dPLlDBz0vpa9",
        "colab": {
          "base_uri": "https://localhost:8080/"
        },
        "outputId": "0082f927-6f5e-413f-ed5b-705316660137"
      },
      "source": [
        "print(confusion_matrix_LR)"
      ],
      "execution_count": null,
      "outputs": [
        {
          "output_type": "stream",
          "name": "stdout",
          "text": [
            "<sklearn.metrics._plot.confusion_matrix.ConfusionMatrixDisplay object at 0x7f42481d4290>\n"
          ]
        }
      ]
    },
    {
      "cell_type": "markdown",
      "metadata": {
        "id": "c71VaRy9vpa9"
      },
      "source": [
        "<h1 style=\"background-color:#ABFF9B;font-size:20px;color:#00033E;font-weight : bold\">Plot ROC curve and calculate ROC - AUC score for the new SVM :</h1> "
      ]
    },
    {
      "cell_type": "code",
      "metadata": {
        "id": "iT8NNVKkvpa9",
        "colab": {
          "base_uri": "https://localhost:8080/",
          "height": 279
        },
        "outputId": "43118aa6-a908-4180-f531-3ab86eaee088"
      },
      "source": [
        "## ======== YOUR CODE HERE ======== ##\n",
        "from sklearn import metrics\n",
        "metrics.plot_roc_curve(clf, X_test_scaled, y_test)\n",
        "plt.show()\n",
        "## ================================ ##"
      ],
      "execution_count": null,
      "outputs": [
        {
          "output_type": "display_data",
          "data": {
            "text/plain": [
              "<Figure size 432x288 with 1 Axes>"
            ],
            "image/png": "[encoded data removed]"
          },
          "metadata": {
            "needs_background": "light"
          }
        }
      ]
    },
    {
      "cell_type": "code",
      "source": [
        "print(roc_auc_score(y_test,y_pred))"
      ],
      "metadata": {
        "colab": {
          "base_uri": "https://localhost:8080/"
        },
        "id": "t-zDp1YMHNU0",
        "outputId": "110b2bf1-7f54-46ac-d926-7559338dd143"
      },
      "execution_count": null,
      "outputs": [
        {
          "output_type": "stream",
          "name": "stdout",
          "text": [
            "0.8030240372189197\n"
          ]
        }
      ]
    },
    {
      "cell_type": "markdown",
      "metadata": {
        "id": "6tlhrJ8qvpa-"
      },
      "source": [
        "<h1 style=\"background-color:#ABFF9B;font-size:20px;color:#00033E;font-weight : bold\">Print Training and Testing Score along with accuracy score for the new SVM :</h1> "
      ]
    },
    {
      "cell_type": "code",
      "metadata": {
        "id": "AnydqRTQvpa-",
        "colab": {
          "base_uri": "https://localhost:8080/"
        },
        "outputId": "d7e8257f-4ca8-4c99-a28d-ea9fa9a18d1b"
      },
      "source": [
        "print('Accuracy -> ',accuracy_score(y_test,y_pred))\n",
        "print(\"Train Data Score: {}\".format(clf.score(X_train_scaled, y_train)))\n",
        "print(\"Test Data Score: {}\".format(clf.score(X_test_scaled, y_test)))"
      ],
      "execution_count": null,
      "outputs": [
        {
          "output_type": "stream",
          "name": "stdout",
          "text": [
            "Accuracy ->  0.8057851239669421\n",
            "Train Data Score: 0.8337983054350072\n",
            "Test Data Score: 0.8057851239669421\n"
          ]
        }
      ]
    }
  ]
}